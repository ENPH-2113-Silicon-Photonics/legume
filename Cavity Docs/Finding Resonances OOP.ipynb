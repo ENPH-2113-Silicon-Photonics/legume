{
 "cells": [
  {
   "cell_type": "code",
   "execution_count": 32,
   "metadata": {
    "collapsed": true
   },
   "outputs": [],
   "source": [
    "from cavity_mode_expansion import CavityModeExpansion\n",
    "import legume\n",
    "import numpy as np"
   ]
  },
  {
   "cell_type": "markdown",
   "source": [
    "We setup the crystal cavity we are interested in simulating."
   ],
   "metadata": {
    "collapsed": false,
    "pycharm": {
     "name": "#%% md\n"
    }
   }
  },
  {
   "cell_type": "code",
   "execution_count": 33,
   "outputs": [],
   "source": [
    "# Number of PhC periods in x and y directions\n",
    "Nx, Ny = 12, 12\n",
    "\n",
    "\n",
    "# Regular PhC parameters\n",
    "a=1.0\n",
    "\n",
    "dslab = 0.26/0.366\n",
    "n_slab = 3.4\n",
    "ra = 0.344\n",
    "\n",
    "\n",
    "# Initialize a lattice and PhC\n",
    "lattice = legume.Lattice([Nx*a, 0], [0, Ny*np.sqrt(3)/2*a])\n",
    "\n",
    "# Make x and y positions in one quadrant of the supercell\n",
    "# We only initialize one quadrant because we want to shift the holes symmetrically\n",
    "xp, yp = [], []\n",
    "nx, ny = Nx, Ny\n",
    "for iy in range(ny):\n",
    "    for ix in range(nx):\n",
    "        if iy == 0 and ix in (-1 %nx,0,1):\n",
    "            continue\n",
    "        xp.append((ix + (iy%2)*0.5)*a)\n",
    "        yp.append((iy*np.sqrt(3)/2)*a)\n",
    "\n",
    "nc = len(xp)"
   ],
   "metadata": {
    "collapsed": false,
    "pycharm": {
     "name": "#%%\n"
    }
   }
  },
  {
   "cell_type": "markdown",
   "source": [
    "we define some meta properties of the crystal."
   ],
   "metadata": {
    "collapsed": false,
    "pycharm": {
     "name": "#%% md\n"
    }
   }
  },
  {
   "cell_type": "code",
   "execution_count": 34,
   "outputs": [],
   "source": [
    "super_periods = np.array((Nx*a, 2*Ny*np.sqrt(3)/2*a))\n",
    "defect_margins = 0.25 * super_periods\n",
    "\n",
    "# Define L3 PhC cavity with shifted holes\n",
    "def cavity():\n",
    "    # Initialize PhC\n",
    "    phc = legume.PhotCryst(lattice)\n",
    "\n",
    "    # Add a layer to the PhC\n",
    "    phc.add_layer(d=dslab, eps_b=n_slab**2)\n",
    "\n",
    "    # Apply holes symmetrically in the four quadrants\n",
    "    for ic, x in enumerate(xp):\n",
    "        yc = yp[ic]\n",
    "        xc = xp[ic]\n",
    "\n",
    "        phc.add_shape(legume.Circle(x_cent=xc, y_cent=yc, r=ra))\n",
    "    return phc\n",
    "\n",
    "phc = cavity()"
   ],
   "metadata": {
    "collapsed": false,
    "pycharm": {
     "name": "#%%\n"
    }
   }
  },
  {
   "cell_type": "markdown",
   "source": [
    "Next, we construct the base lattice, the photonic crystal object, and the GME object:"
   ],
   "metadata": {
    "collapsed": false,
    "pycharm": {
     "name": "#%% md\n"
    }
   }
  },
  {
   "cell_type": "code",
   "execution_count": 35,
   "outputs": [],
   "source": [
    "a1 = np.array([a*0.5, a*np.sqrt(3)/2])\n",
    "a2 = np.array([a*0.5, -a*np.sqrt(3)/2])\n",
    "\n",
    "base_lattice = legume.Lattice(a1,a2)\n",
    "base_phc = legume.PhotCryst(base_lattice)\n",
    "base_phc.add_layer(d=dslab, eps_b=n_slab**2)\n",
    "base_phc.layers[0].add_shape(legume.Circle(eps=1.0, r=ra))\n"
   ],
   "metadata": {
    "collapsed": false,
    "pycharm": {
     "name": "#%%\n"
    }
   }
  },
  {
   "cell_type": "markdown",
   "source": [
    "We construct the cavity mode analysis object"
   ],
   "metadata": {
    "collapsed": false,
    "pycharm": {
     "name": "#%% md\n"
    }
   }
  },
  {
   "cell_type": "code",
   "execution_count": 36,
   "outputs": [],
   "source": [
    "cme = CavityModeExpansion(phc, base_phc, super_periods, defect_margins, layer=0, gmax=3, base_gmax=3)"
   ],
   "metadata": {
    "collapsed": false,
    "pycharm": {
     "name": "#%%\n"
    }
   }
  },
  {
   "cell_type": "markdown",
   "source": [
    "First lets find the band-gaps of the base crystal. This will give us an idea of where the cavity modes should be."
   ],
   "metadata": {
    "collapsed": false,
    "pycharm": {
     "name": "#%% md\n"
    }
   }
  },
  {
   "cell_type": "code",
   "execution_count": 37,
   "outputs": [
    {
     "name": "stdout",
     "output_type": "stream",
     "text": [
      "band gap lower bound: 0.243921,\n",
      "band gap upper bound: 0.286060,\n",
      "band gap middle: 0.264990,\n",
      "gap-midgap ratio: 0.159023.\n"
     ]
    }
   ],
   "source": [
    "band_gaps, gmg_ratio =cme.find_band_gaps(band_tol=0.04, order=np.array([0,3]), lc_tol=0.1)\n",
    "\n",
    "# With malice of forethought we know there is only one band-gap for this crystal.\n",
    "print(\"band gap lower bound: %f,\\n\"\n",
    "      \"band gap upper bound: %f,\\n\"\n",
    "      \"band gap middle: %f,\\n\"\n",
    "      \"gap-midgap ratio: %f.\" %  (band_gaps[0][0], band_gaps[0][1], band_gaps[0][2], gmg_ratio[0]))"
   ],
   "metadata": {
    "collapsed": false,
    "pycharm": {
     "name": "#%%\n"
    }
   }
  },
  {
   "cell_type": "markdown",
   "source": [
    "From this data we can deduce that when we are looking for cavity modes we should be looking for modes in the region\n",
    "$0.25 \\frac{\\omega a}{2\\pi c}-0.38\\frac{\\omega a}{2\\pi c}$. In an optimization we may want to use data like this\n",
    "to tune the properties of the base crystal.\n",
    "\n",
    "For example we may want to tune the thickness of the slab to rid ourselves of higher order modes.\n",
    "\n",
    "Now that we have the frequency region we are interested in we can setup the simulation on\n"
   ],
   "metadata": {
    "collapsed": false,
    "pycharm": {
     "name": "#%% md\n"
    }
   }
  }
 ],
 "metadata": {
  "kernelspec": {
   "display_name": "Python 3",
   "language": "python",
   "name": "python3"
  },
  "language_info": {
   "codemirror_mode": {
    "name": "ipython",
    "version": 2
   },
   "file_extension": ".py",
   "mimetype": "text/x-python",
   "name": "python",
   "nbconvert_exporter": "python",
   "pygments_lexer": "ipython2",
   "version": "2.7.6"
  }
 },
 "nbformat": 4,
 "nbformat_minor": 0
}