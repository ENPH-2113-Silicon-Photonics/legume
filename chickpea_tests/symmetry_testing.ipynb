{
 "cells": [
  {
   "cell_type": "code",
   "execution_count": 26,
   "outputs": [],
   "source": [
    "import numpy as np"
   ],
   "metadata": {
    "collapsed": false,
    "pycharm": {
     "name": "#%%\n"
    }
   }
  },
  {
   "cell_type": "code",
   "execution_count": 27,
   "metadata": {
    "collapsed": true
   },
   "outputs": [],
   "source": [
    "\n",
    "def set_symmetry_and_hole_mask(Nx, Ny, symmetry):\n",
    "    if symmetry == 'x_mirror':\n",
    "        shape = (Nx // 2, Ny)\n",
    "        if Nx % 2 == 0:\n",
    "            sym_mask = np.vstack((np.ones(shape), np.zeros(shape)))\n",
    "        else:\n",
    "            shape = ((Nx - 1) // 2, Ny)\n",
    "            sym_mask = np.vstack((np.ones(shape), 1 / 2 * np.ones((1, shape[1])), np.zeros(shape)))\n",
    "\n",
    "    elif symmetry == 'y_mirror':\n",
    "        shape = (Nx, Ny // 2)\n",
    "\n",
    "        if Ny % 2 == 0:\n",
    "            sym_mask = np.hstack((np.zeros(shape), np.ones(shape)))\n",
    "        else:\n",
    "            sym_mask = np.hstack((np.zeros(shape), 1 / 2 * np.ones((shape[0],1)), np.ones(shape)))\n",
    "\n",
    "    elif symmetry == 'Dihedral':\n",
    "        shape = (Nx // 2, Ny // 2)\n",
    "        if Nx % 2 == 0 and Ny % 2 == 0:\n",
    "            col1 = np.hstack((np.zeros(shape), np.ones(shape)))\n",
    "            col2 = np.hstack((np.zeros(shape), np.zeros(shape)))\n",
    "\n",
    "            sym_mask = np.vstack((col1, col2))\n",
    "        elif Nx % 2 == 0 and Ny % 2 == 1:\n",
    "            col1 = np.hstack((np.zeros(shape), 1 / 2 * np.ones((shape[0], 1)), np.ones(shape)))\n",
    "            col2 = np.hstack((np.zeros(shape), np.zeros((shape[0], 1)), np.zeros(shape)))\n",
    "            sym_mask = np.vstack((col1, col2))\n",
    "\n",
    "        elif Nx % 2 == 1 and Ny % 2 == 0:\n",
    "            col1 = np.hstack((np.zeros(shape), np.ones(shape)))\n",
    "            col2 = np.hstack((np.zeros((1, shape[1])), 1 / 2 * np.ones((1, shape[1]))))\n",
    "            col3 = np.hstack((np.zeros(shape), np.zeros(shape)))\n",
    "\n",
    "            sym_mask = np.vstack((col1, col2, col3))\n",
    "\n",
    "        elif Nx % 2 == 1 and Ny % 2 == 1:\n",
    "            col1 = np.hstack((np.zeros(shape), 1 / 2 * np.ones((shape[0], 1)), np.ones(shape)))\n",
    "            col2 = np.hstack((np.zeros((1, shape[1])), 1 / 4 * np.ones((1, 1)), 1 / 2 * np.ones((1, shape[1]))))\n",
    "            col3 = np.hstack((np.zeros(shape), np.zeros((shape[0], 1)), np.zeros(shape)))\n",
    "\n",
    "            sym_mask = np.vstack((col1, col2, col3))\n",
    "\n",
    "    return sym_mask"
   ]
  },
  {
   "cell_type": "code",
   "execution_count": 28,
   "outputs": [],
   "source": [
    "x_mirror1016 = set_symmetry_and_hole_mask(10,16, 'x_mirror')\n",
    "x_mirror1015 = set_symmetry_and_hole_mask(10,15, 'x_mirror')\n",
    "x_mirror1116 = set_symmetry_and_hole_mask(11,16, 'x_mirror')\n",
    "x_mirror1115 = set_symmetry_and_hole_mask(11,15, 'x_mirror')"
   ],
   "metadata": {
    "collapsed": false,
    "pycharm": {
     "name": "#%%\n"
    }
   }
  },
  {
   "cell_type": "code",
   "execution_count": 29,
   "outputs": [],
   "source": [
    "y_mirror1016 = set_symmetry_and_hole_mask(10,16, 'y_mirror')\n",
    "y_mirror1015 = set_symmetry_and_hole_mask(10,15, 'y_mirror')\n",
    "y_mirror1116 = set_symmetry_and_hole_mask(11,16, 'y_mirror')\n",
    "y_mirror1115 = set_symmetry_and_hole_mask(11,15, 'y_mirror')"
   ],
   "metadata": {
    "collapsed": false,
    "pycharm": {
     "name": "#%%\n"
    }
   }
  },
  {
   "cell_type": "code",
   "execution_count": 30,
   "outputs": [],
   "source": [
    "Dihedral1016 = set_symmetry_and_hole_mask(10,16, 'Dihedral')\n",
    "Dihedral1015 = set_symmetry_and_hole_mask(10,15, 'Dihedral')\n",
    "Dihedral1116 = set_symmetry_and_hole_mask(11,16, 'Dihedral')\n",
    "Dihedral1115 = set_symmetry_and_hole_mask(11,15, 'Dihedral')"
   ],
   "metadata": {
    "collapsed": false,
    "pycharm": {
     "name": "#%%\n"
    }
   }
  }
 ],
 "metadata": {
  "kernelspec": {
   "display_name": "Python 3",
   "language": "python",
   "name": "python3"
  },
  "language_info": {
   "codemirror_mode": {
    "name": "ipython",
    "version": 2
   },
   "file_extension": ".py",
   "mimetype": "text/x-python",
   "name": "python",
   "nbconvert_exporter": "python",
   "pygments_lexer": "ipython2",
   "version": "2.7.6"
  }
 },
 "nbformat": 4,
 "nbformat_minor": 0
}