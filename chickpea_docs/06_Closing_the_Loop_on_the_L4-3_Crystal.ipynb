{
 "cells": [
  {
   "cell_type": "markdown",
   "source": [
    "# Closing the Loop on the L4-3 Crystal"
   ],
   "metadata": {
    "collapsed": false
   }
  },
  {
   "cell_type": "code",
   "execution_count": 66,
   "outputs": [
    {
     "name": "stdout",
     "output_type": "stream",
     "text": [
      "The autoreload extension is already loaded. To reload it, use:\n",
      "  %reload_ext autoreload\n"
     ]
    }
   ],
   "source": [
    "import numpy as np\n",
    "from chickpea.cma import CavityModeAnalysis\n",
    "import matplotlib.pyplot as plt\n",
    "import time\n",
    "\n",
    "import autograd.numpy as npa\n",
    "from autograd import grad, value_and_grad\n",
    "\n",
    "import legume\n",
    "from legume.minimize import Minimize\n",
    "\n",
    "%load_ext autoreload\n",
    "%autoreload 2"
   ],
   "metadata": {
    "collapsed": false,
    "pycharm": {
     "name": "#%%\n"
    }
   }
  },
  {
   "cell_type": "markdown",
   "source": [
    "# Cavity simulation in Chikpea\n",
    "\n",
    "In the Legume tutorial\n",
    "[Guided_mode_expansion_with_autograd](../docs/examples/06_Guided_mode_expansion_with_autograd.ipynb).\n",
    "A L4/3 crystal is optimized for Q factor and modal volume of a particular mode. The mode analyzed in this tutorial\n",
    "is chosen with prior knowledge of the mode structure. For novel crystals the mode structure may not be known in advance.\n",
    "Can we apply the techniques of [Analyzing an H2 Photonic Crystal Cavity](02_Analyzing_an_H2_Photonic_Crystal_Cavity.ipynb)\n",
    "to close the loop and conduct the optimization as if we had no prior knowledge?\n",
    "\n",
    "Beginning in the same place as the legume tutorial by constructing the crystal we have:"
   ],
   "metadata": {
    "collapsed": false,
    "pycharm": {
     "name": "#%% md\n"
    }
   }
  },
  {
   "cell_type": "code",
   "execution_count": 67,
   "outputs": [],
   "source": [
    "# Number of PhC periods in x and y directions\n",
    "Nx, Ny = 16, 10\n",
    "\n",
    "# Regular PhC parameters\n",
    "ra = 0.234\n",
    "dslab = 0.4355\n",
    "n_slab = 2.21\n",
    "\n",
    "# Initialize a lattice and PhC\n",
    "lattice = legume.Lattice([Nx, 0], [0, Ny*np.sqrt(3)/2])\n",
    "\n",
    "# Make x and y positions in one quadrant of the supercell\n",
    "# We only initialize one quadrant because we want to shift the holes symmetrically\n",
    "xp, yp = [], []\n",
    "nx, ny = Nx//2 + 1, Ny//2 + 1\n",
    "for iy in range(ny):\n",
    "    for ix in range(nx):\n",
    "        xp.append(ix + (iy%2)*0.5)\n",
    "        yp.append(iy*np.sqrt(3)/2)\n",
    "\n",
    "# Move the first two holes to create the L4/3 defect\n",
    "xp[0] = 2/5\n",
    "xp[1] = 6/5\n",
    "nc = len(xp)"
   ],
   "metadata": {
    "collapsed": false,
    "pycharm": {
     "name": "#%%\n"
    }
   }
  },
  {
   "cell_type": "code",
   "execution_count": 68,
   "outputs": [],
   "source": [
    "# Construct the photonic crystal\n",
    "\n",
    "# Initialize PhC\n",
    "phc = legume.PhotCryst(lattice)\n",
    "\n",
    "# Add a layer to the PhC\n",
    "phc.add_layer(d=dslab, eps_b=n_slab**2)\n",
    "\n",
    "# Apply holes symmetrically in the four quadrants\n",
    "for ic, x in enumerate(xp):\n",
    "    yc = yp[ic] if yp[ic] == 0 else yp[ic]\n",
    "    xc = x if x == 0 else xp[ic]\n",
    "    phc.add_shape(legume.Circle(x_cent=xc, y_cent=yc, r=ra))\n",
    "    if nx-0.6 > xp[ic] > 0 and (ny-1.1)*np.sqrt(3)/2 > yp[ic] > 0:\n",
    "        phc.add_shape(legume.Circle(x_cent=-xc, y_cent=-yc, r=ra))\n",
    "    if nx-1.6 > xp[ic] > 0:\n",
    "        phc.add_shape(legume.Circle(x_cent=-xc, y_cent=yc, r=ra))\n",
    "    if (ny-1.1)*np.sqrt(3)/2 > yp[ic] > 0 and nx-1.1 > xp[ic]:\n",
    "        phc.add_shape(legume.Circle(x_cent=xc, y_cent=-yc, r=ra))"
   ],
   "metadata": {
    "collapsed": false,
    "pycharm": {
     "name": "#%%\n"
    }
   }
  },
  {
   "cell_type": "markdown",
   "source": [
    "From here we diverge. What do the modes of the L4/3 Crystal look like? Applying the same techniques as in\n",
    "[Analyzing an H2 Photonic Crystal Cavity](02_Analyzing_an_H2_Photonic_Crystal_Cavity.ipynb)\n",
    "\n",
    "We construct the base crystal so that we may study the bandgap"
   ],
   "metadata": {
    "collapsed": false
   }
  },
  {
   "cell_type": "code",
   "execution_count": 69,
   "outputs": [],
   "source": [
    "a1 = np.array([0.5, np.sqrt(3)/2])\n",
    "a2 = np.array([0.5, -np.sqrt(3)/2])\n",
    "\n",
    "base_lattice = legume.Lattice(a1,a2)\n",
    "base_phc = legume.PhotCryst(base_lattice)\n",
    "base_phc.add_layer(d=dslab, eps_b=n_slab**2)\n",
    "base_phc.layers[0].add_shape(legume.Circle(eps=1.0, r=ra))\n",
    "\n",
    "defect_margins = np.array([0.25,0.25])\n",
    "cma = CavityModeAnalysis(phc, base_phc, defect_margins, layer=0, gmax=3, base_gmax=3)"
   ],
   "metadata": {
    "collapsed": false,
    "pycharm": {
     "name": "#%%\n"
    }
   }
  },
  {
   "cell_type": "markdown",
   "source": [
    "Where are the band gaps of this crystal?"
   ],
   "metadata": {
    "collapsed": false,
    "pycharm": {
     "name": "#%% md\n"
    }
   }
  },
  {
   "cell_type": "code",
   "execution_count": 70,
   "outputs": [
    {
     "data": {
      "text/plain": "<AxesSubplot:xlabel='Wave vector', ylabel='Frequency'>"
     },
     "execution_count": 70,
     "metadata": {},
     "output_type": "execute_result"
    },
    {
     "name": "stderr",
     "output_type": "stream",
     "text": [
      "Exception in Tkinter callback\n",
      "Traceback (most recent call last):\n",
      "  File \"c:\\users\\stephen\\appdata\\local\\programs\\python\\python38\\lib\\tkinter\\__init__.py\", line 1883, in __call__\n",
      "    return self.func(*args)\n",
      "  File \"c:\\users\\stephen\\appdata\\local\\programs\\python\\python38\\lib\\tkinter\\__init__.py\", line 804, in callit\n",
      "    func(*args)\n",
      "  File \"c:\\users\\stephen\\appdata\\local\\programs\\python\\python38\\lib\\site-packages\\matplotlib\\backends\\_backend_tk.py\", line 253, in idle_draw\n",
      "    self.draw()\n",
      "  File \"c:\\users\\stephen\\appdata\\local\\programs\\python\\python38\\lib\\site-packages\\matplotlib\\backends\\backend_tkagg.py\", line 9, in draw\n",
      "    super(FigureCanvasTkAgg, self).draw()\n",
      "  File \"c:\\users\\stephen\\appdata\\local\\programs\\python\\python38\\lib\\site-packages\\matplotlib\\backends\\backend_agg.py\", line 407, in draw\n",
      "    self.figure.draw(self.renderer)\n",
      "  File \"c:\\users\\stephen\\appdata\\local\\programs\\python\\python38\\lib\\site-packages\\matplotlib\\backend_bases.py\", line 1544, in _draw\n",
      "    def _draw(renderer): raise Done(renderer)\n",
      "matplotlib.backend_bases._get_renderer.<locals>.Done: <matplotlib.backends.backend_agg.RendererAgg object at 0x0000013E12793550>\n",
      "Exception in Tkinter callback\n",
      "Traceback (most recent call last):\n",
      "  File \"c:\\users\\stephen\\appdata\\local\\programs\\python\\python38\\lib\\tkinter\\__init__.py\", line 1883, in __call__\n",
      "    return self.func(*args)\n",
      "  File \"c:\\users\\stephen\\appdata\\local\\programs\\python\\python38\\lib\\site-packages\\matplotlib\\backends\\_backend_tk.py\", line 242, in resize\n",
      "    self.draw()\n",
      "  File \"c:\\users\\stephen\\appdata\\local\\programs\\python\\python38\\lib\\site-packages\\matplotlib\\backends\\backend_tkagg.py\", line 9, in draw\n",
      "    super(FigureCanvasTkAgg, self).draw()\n",
      "  File \"c:\\users\\stephen\\appdata\\local\\programs\\python\\python38\\lib\\site-packages\\matplotlib\\backends\\backend_agg.py\", line 407, in draw\n",
      "    self.figure.draw(self.renderer)\n",
      "  File \"c:\\users\\stephen\\appdata\\local\\programs\\python\\python38\\lib\\site-packages\\matplotlib\\backend_bases.py\", line 1544, in _draw\n",
      "    def _draw(renderer): raise Done(renderer)\n",
      "matplotlib.backend_bases._get_renderer.<locals>.Done: <matplotlib.backends.backend_agg.RendererAgg object at 0x0000013E12793550>\n",
      "Exception in Tkinter callback\n",
      "Traceback (most recent call last):\n",
      "  File \"c:\\users\\stephen\\appdata\\local\\programs\\python\\python38\\lib\\tkinter\\__init__.py\", line 1883, in __call__\n",
      "    return self.func(*args)\n",
      "  File \"c:\\users\\stephen\\appdata\\local\\programs\\python\\python38\\lib\\tkinter\\__init__.py\", line 804, in callit\n",
      "    func(*args)\n",
      "  File \"c:\\users\\stephen\\appdata\\local\\programs\\python\\python38\\lib\\site-packages\\matplotlib\\backends\\_backend_tk.py\", line 253, in idle_draw\n",
      "    self.draw()\n",
      "  File \"c:\\users\\stephen\\appdata\\local\\programs\\python\\python38\\lib\\site-packages\\matplotlib\\backends\\backend_tkagg.py\", line 9, in draw\n",
      "    super(FigureCanvasTkAgg, self).draw()\n",
      "  File \"c:\\users\\stephen\\appdata\\local\\programs\\python\\python38\\lib\\site-packages\\matplotlib\\backends\\backend_agg.py\", line 407, in draw\n",
      "    self.figure.draw(self.renderer)\n",
      "  File \"c:\\users\\stephen\\appdata\\local\\programs\\python\\python38\\lib\\site-packages\\matplotlib\\backend_bases.py\", line 1544, in _draw\n",
      "    def _draw(renderer): raise Done(renderer)\n",
      "matplotlib.backend_bases._get_renderer.<locals>.Done: <matplotlib.backends.backend_agg.RendererAgg object at 0x0000013E12793550>\n"
     ]
    },
    {
     "data": {
      "text/plain": "<Figure size 288x360 with 1 Axes>",
      "image/png": "[encoded data removed]"
     },
     "metadata": {
      "needs_background": "light"
     },
     "output_type": "display_data"
    }
   ],
   "source": [
    "band_gaps, k_air, k_eps =cma.find_band_gaps(band_tol=0.025,\n",
    "                                            order=np.array([0]), # The order of modes that we care about.\n",
    "                                                                   # TE modes are numbers [0,2,4,6,8]\n",
    "                                                                   # We happen to know that higher order modes are\n",
    "                                                                   # well above the bandgap\n",
    "                                            numeig=10, sample_rate=25)\n",
    "\n",
    "gmg_ratio = np.array([(band_gap[1] - band_gap[0]) / band_gap[2] for band_gap in band_gaps])\n",
    "\n",
    "# Because find_band_gaps runs a simulation on the base crystal, we can visualize the bands by\n",
    "legume.viz.bands(cma.base_gme,  trim_light_cone=False, lc_trim=0)"
   ],
   "metadata": {
    "collapsed": false,
    "pycharm": {
     "name": "#%%\n"
    }
   }
  },
  {
   "cell_type": "markdown",
   "source": [
    "You may notice that the number of kpoints we sample when finding the band gaps is higher the for the H2 crystal.\n",
    "This is required as the band tolerance is small, and we don't want to detect frivolous band gaps between samples of\n",
    "k.\n"
   ],
   "metadata": {
    "collapsed": false,
    "pycharm": {
     "name": "#%% md\n"
    }
   }
  },
  {
   "cell_type": "code",
   "execution_count": 71,
   "outputs": [
    {
     "name": "stdout",
     "output_type": "stream",
     "text": [
      "Band gap lower bound: 0.402868.\n",
      "Band gap upper bound: 0.429419.\n",
      "Band gap center: 0.416144.\n",
      "Gap-midgap ratio: 0.063803.\n",
      "The top of the air band is at k= (3.141593, 1.813799).\n",
      "The bottom of the dielectric band is at k= (4.188790, 0.000000).\n",
      "\n"
     ]
    }
   ],
   "source": [
    "# There is only one band-gap for this crystal with properties.\n",
    "print(\"Band gap lower bound: %f.\\n\"\n",
    "      \"Band gap upper bound: %f.\\n\"\n",
    "      \"Band gap center: %f.\\n\"\n",
    "      \"Gap-midgap ratio: %f.\\n\"\n",
    "      \"The top of the air band is at k= (%f, %f).\\n\"\n",
    "      \"The bottom of the dielectric band is at k= (%f, %f).\\n\" %  (band_gaps[0][0],\n",
    "                                                                   band_gaps[0][1],\n",
    "                                                                   band_gaps[0][2],\n",
    "                                                                   gmg_ratio[0], k_air[0], k_air[1],\n",
    "                                                                   k_eps[0], k_eps[1]))"
   ],
   "metadata": {
    "collapsed": false,
    "pycharm": {
     "name": "#%%\n"
    }
   }
  },
  {
   "cell_type": "markdown",
   "source": [
    "To find defect modes we run a guided mode expansion targeting the center of the gap."
   ],
   "metadata": {
    "collapsed": false,
    "pycharm": {
     "name": "#%% md\n"
    }
   }
  },
  {
   "cell_type": "code",
   "source": [
    "options = {'verbose': True,\n",
    "           'gmode_inds': [0],\n",
    "           'gradients': 'approx',\n",
    "           'numeig': 10,\n",
    "           'eig_solver': 'eigh',\n",
    "           'eig_sigma': band_gaps[0][2],\n",
    "           'compute_im': False\n",
    "        }\n",
    "\n",
    "cma.gme.run(kpoints=np.array([[0],[0]]), **options)"
   ],
   "metadata": {
    "collapsed": false,
    "pycharm": {
     "name": "#%%\n"
    }
   },
   "execution_count": null,
   "outputs": []
  },
  {
   "cell_type": "markdown",
   "source": [
    "Because we simulated outside the light cone we can filter cavity modes by\n",
    "restricting the frequency range to the band gap and filtering off high mode volume modes."
   ],
   "metadata": {
    "collapsed": false,
    "pycharm": {
     "name": "#%% md\n"
    }
   }
  },
  {
   "cell_type": "code",
   "source": [
    "\n",
    "arg_list, v = cma.filter_for_defect_mode(max_volume=10, band_filter=band_gaps)\n",
    "q, freqs_im, rad_coup, rad_gvec = cma.calculate_loss_rates_and_coupling(arg_list)\n"
   ],
   "metadata": {
    "collapsed": false,
    "pycharm": {
     "name": "#%%\n"
    }
   },
   "execution_count": null,
   "outputs": []
  },
  {
   "cell_type": "markdown",
   "source": [
    "Finally, knowing the mode volume and the Q factor of our we plot the magnitude of the y component of the electric field.\n",
    "We see that we have recovered the mode chosen in the original tutorial, and we have done so without\n",
    "any prior knowledge other than the permittivity distribution of the crystal."
   ],
   "metadata": {
    "collapsed": false,
    "pycharm": {
     "name": "#%% md\n"
    }
   }
  },
  {
   "cell_type": "code",
   "source": [
    "for kind, mlist in enumerate(arg_list):\n",
    "    for i, mind in enumerate(mlist):\n",
    "        fig=legume.viz.field(cma.gme,'E', kind, mind, z=dslab/2, component='y', val='abs', N1=200, N2=200, norm=True)\n",
    "        fig.text(0.5,-0.25,\n",
    "                 \"arg: \" + str(mind)+ \"\\n\"\n",
    "                 + \"freq: \" + str(cma.gme.freqs[kind][mind]) + \"\\n\"\n",
    "                 + \"Volume: \" + str(v[kind][i]) + \"\\n\"\n",
    "                 + \"Q: \" + str(q[kind][i]))"
   ],
   "metadata": {
    "collapsed": false,
    "pycharm": {
     "name": "#%%\n"
    }
   },
   "execution_count": null,
   "outputs": []
  },
  {
   "cell_type": "code",
   "execution_count": 77,
   "outputs": [
    {
     "data": {
      "text/plain": "<matplotlib.image.AxesImage at 0x13e007b4c10>"
     },
     "execution_count": 77,
     "metadata": {},
     "output_type": "execute_result"
    },
    {
     "name": "stderr",
     "output_type": "stream",
     "text": [
      "Exception in Tkinter callback\n",
      "Traceback (most recent call last):\n",
      "  File \"c:\\users\\stephen\\appdata\\local\\programs\\python\\python38\\lib\\tkinter\\__init__.py\", line 1883, in __call__\n",
      "    return self.func(*args)\n",
      "  File \"c:\\users\\stephen\\appdata\\local\\programs\\python\\python38\\lib\\tkinter\\__init__.py\", line 804, in callit\n",
      "    func(*args)\n",
      "  File \"c:\\users\\stephen\\appdata\\local\\programs\\python\\python38\\lib\\site-packages\\matplotlib\\backends\\_backend_tk.py\", line 253, in idle_draw\n",
      "    self.draw()\n",
      "  File \"c:\\users\\stephen\\appdata\\local\\programs\\python\\python38\\lib\\site-packages\\matplotlib\\backends\\backend_tkagg.py\", line 9, in draw\n",
      "    super(FigureCanvasTkAgg, self).draw()\n",
      "  File \"c:\\users\\stephen\\appdata\\local\\programs\\python\\python38\\lib\\site-packages\\matplotlib\\backends\\backend_agg.py\", line 407, in draw\n",
      "    self.figure.draw(self.renderer)\n",
      "  File \"c:\\users\\stephen\\appdata\\local\\programs\\python\\python38\\lib\\site-packages\\matplotlib\\backend_bases.py\", line 1544, in _draw\n",
      "    def _draw(renderer): raise Done(renderer)\n",
      "matplotlib.backend_bases._get_renderer.<locals>.Done: <matplotlib.backends.backend_agg.RendererAgg object at 0x0000013E127F4E20>\n",
      "Exception in Tkinter callback\n",
      "Traceback (most recent call last):\n",
      "  File \"c:\\users\\stephen\\appdata\\local\\programs\\python\\python38\\lib\\tkinter\\__init__.py\", line 1883, in __call__\n",
      "    return self.func(*args)\n",
      "  File \"c:\\users\\stephen\\appdata\\local\\programs\\python\\python38\\lib\\site-packages\\matplotlib\\backends\\_backend_tk.py\", line 242, in resize\n",
      "    self.draw()\n",
      "  File \"c:\\users\\stephen\\appdata\\local\\programs\\python\\python38\\lib\\site-packages\\matplotlib\\backends\\backend_tkagg.py\", line 9, in draw\n",
      "    super(FigureCanvasTkAgg, self).draw()\n",
      "  File \"c:\\users\\stephen\\appdata\\local\\programs\\python\\python38\\lib\\site-packages\\matplotlib\\backends\\backend_agg.py\", line 407, in draw\n",
      "    self.figure.draw(self.renderer)\n",
      "  File \"c:\\users\\stephen\\appdata\\local\\programs\\python\\python38\\lib\\site-packages\\matplotlib\\backend_bases.py\", line 1544, in _draw\n",
      "    def _draw(renderer): raise Done(renderer)\n",
      "matplotlib.backend_bases._get_renderer.<locals>.Done: <matplotlib.backends.backend_agg.RendererAgg object at 0x0000013E127F4E20>\n",
      "Exception in Tkinter callback\n",
      "Traceback (most recent call last):\n",
      "  File \"c:\\users\\stephen\\appdata\\local\\programs\\python\\python38\\lib\\tkinter\\__init__.py\", line 1883, in __call__\n",
      "    return self.func(*args)\n",
      "  File \"c:\\users\\stephen\\appdata\\local\\programs\\python\\python38\\lib\\tkinter\\__init__.py\", line 804, in callit\n",
      "    func(*args)\n",
      "  File \"c:\\users\\stephen\\appdata\\local\\programs\\python\\python38\\lib\\site-packages\\matplotlib\\backends\\_backend_tk.py\", line 253, in idle_draw\n",
      "    self.draw()\n",
      "  File \"c:\\users\\stephen\\appdata\\local\\programs\\python\\python38\\lib\\site-packages\\matplotlib\\backends\\backend_tkagg.py\", line 9, in draw\n",
      "    super(FigureCanvasTkAgg, self).draw()\n",
      "  File \"c:\\users\\stephen\\appdata\\local\\programs\\python\\python38\\lib\\site-packages\\matplotlib\\backends\\backend_agg.py\", line 407, in draw\n",
      "    self.figure.draw(self.renderer)\n",
      "  File \"c:\\users\\stephen\\appdata\\local\\programs\\python\\python38\\lib\\site-packages\\matplotlib\\backend_bases.py\", line 1544, in _draw\n",
      "    def _draw(renderer): raise Done(renderer)\n",
      "matplotlib.backend_bases._get_renderer.<locals>.Done: <matplotlib.backends.backend_agg.RendererAgg object at 0x0000013E127F4E20>\n"
     ]
    },
    {
     "data": {
      "text/plain": "<Figure size 432x288 with 1 Axes>",
      "image/png": "[encoded data removed]"
     },
     "metadata": {
      "needs_background": "light"
     },
     "output_type": "display_data"
    }
   ],
   "source": [],
   "metadata": {
    "collapsed": false,
    "pycharm": {
     "name": "#%%\n"
    }
   }
  }
 ],
 "metadata": {
  "kernelspec": {
   "display_name": "Python 3",
   "language": "python",
   "name": "python3"
  },
  "language_info": {
   "codemirror_mode": {
    "name": "ipython",
    "version": 2
   },
   "file_extension": ".py",
   "mimetype": "text/x-python",
   "name": "python",
   "nbconvert_exporter": "python",
   "pygments_lexer": "ipython2",
   "version": "2.7.6"
  }
 },
 "nbformat": 4,
 "nbformat_minor": 0
}