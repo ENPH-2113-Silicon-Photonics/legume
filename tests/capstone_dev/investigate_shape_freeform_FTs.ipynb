{
 "cells": [
  {
   "cell_type": "markdown",
   "metadata": {
    "collapsed": true,
    "pycharm": {
     "is_executing": false
    }
   },
   "source": [
    "# Investigating shape FTs in Legume\n",
    "* Goal: setting up a freeform layer, and having a lattice-shape agnostic FT method for said layer"
   ]
  },
  {
   "cell_type": "code",
   "execution_count": 3,
   "metadata": {
    "pycharm": {
     "is_executing": false
    }
   },
   "outputs": [
    {
     "name": "stdout",
     "output_type": "stream",
     "text": [
      "The autoreload extension is already loaded. To reload it, use:\n",
      "  %reload_ext autoreload\n"
     ]
    }
   ],
   "source": [
    "import numpy as np\n",
    "import legume\n",
    "import matplotlib.pyplot as plt\n",
    "\n",
    "%load_ext autoreload\n",
    "%autoreload 2"
   ]
  },
  {
   "cell_type": "code",
   "execution_count": 5,
   "metadata": {},
   "outputs": [
    {
     "data": {
      "text/plain": [
       "Text(0.5, 1.0, 'square lattice w/ circle')"
      ]
     },
     "execution_count": 5,
     "metadata": {},
     "output_type": "execute_result"
    },
    {
     "data": {
      "image/png": "[encoded data removed]",
      "text/plain": [
       "<Figure size 432x288 with 4 Axes>"
      ]
     },
     "metadata": {
      "needs_background": "light"
     },
     "output_type": "display_data"
    }
   ],
   "source": [
    "\"\"\"\n",
    "Let's first set up some objects for experimentation\n",
    "\"\"\"\n",
    "# initialize two different lattice types\n",
    "h_lattice = legume.Lattice('hexagonal')\n",
    "s_lattice = legume.Lattice('square')\n",
    "\n",
    "# create separate layers\n",
    "#(each lattice type will have one version with circle, one with square)\n",
    "hex_lattice_w_square = legume.ShapesLayer(h_lattice, eps_b=2)\n",
    "hex_lattice_w_circle = legume.ShapesLayer(h_lattice, eps_b=2)\n",
    "squ_lattice_w_square = legume.ShapesLayer(s_lattice, eps_b=2)\n",
    "squ_lattice_w_circle = legume.ShapesLayer(s_lattice, eps_b=2)\n",
    "\n",
    "# add shapes\n",
    "hex_lattice_w_square.add_shape(legume.Square(eps=10, x_cent=0, y_cent=0, a=0.3))\n",
    "squ_lattice_w_square.add_shape(legume.Square(eps=10, x_cent=0, y_cent=0, a=0.3))\n",
    "hex_lattice_w_circle.add_shape(legume.Circle(eps=10, x_cent=0, y_cent=0, r=0.2))\n",
    "squ_lattice_w_circle.add_shape(legume.Circle(eps=10, x_cent=0, y_cent=0, r=0.2))\n",
    "\n",
    "# visualize current setups\n",
    "fig, ax = plt.subplots(1, 4)\n",
    "fig.tight_layout()\n",
    "legume.viz.shapes(hex_lattice_w_square, ax[0])\n",
    "ax[0].set_title('hex lattice w/ square')\n",
    "legume.viz.shapes(squ_lattice_w_square, ax[1])\n",
    "ax[1].set_title('square lattice w/ square')\n",
    "legume.viz.shapes(hex_lattice_w_circle, ax[2])\n",
    "ax[2].set_title('hex lattice w/ circle')\n",
    "legume.viz.shapes(squ_lattice_w_circle, ax[3])\n",
    "ax[3].set_title('square lattice w/ circle')"
   ]
  },
  {
   "cell_type": "code",
   "execution_count": 6,
   "metadata": {},
   "outputs": [
    {
     "name": "stdout",
     "output_type": "stream",
     "text": [
      "(2, 49)\n",
      "(2, 25)\n"
     ]
    },
    {
     "data": {
      "text/plain": [
       "Text(0.5, 1.0, 'gvecs (square)')"
      ]
     },
     "execution_count": 6,
     "metadata": {},
     "output_type": "execute_result"
    },
    {
     "data": {
      "image/png": "[encoded data removed]",
      "text/plain": [
       "<Figure size 432x288 with 2 Axes>"
      ]
     },
     "metadata": {
      "needs_background": "light"
     },
     "output_type": "display_data"
    }
   ],
   "source": [
    "\"\"\"\n",
    "Here, we want to confirm that for a given lattice and gmax, the gvecs will be the same\n",
    "(i.e. the square and circle hex lattice gvecs will be the same)\n",
    "\"\"\"\n",
    "gmax = 3\n",
    "\n",
    "hex_pwe_w_square = legume.PlaneWaveExp(hex_lattice_w_square, gmax=gmax)\n",
    "hex_pwe_w_circle = legume.PlaneWaveExp(hex_lattice_w_circle, gmax=gmax)\n",
    "assert np.allclose(hex_pwe_w_square.gvec, hex_pwe_w_circle.gvec)\n",
    "\n",
    "squ_pwe_w_square = legume.PlaneWaveExp(squ_lattice_w_square, gmax=gmax)\n",
    "squ_pwe_w_circle = legume.PlaneWaveExp(squ_lattice_w_circle, gmax=gmax)\n",
    "\n",
    "print(squ_pwe_w_square.gvec.shape)\n",
    "print(hex_pwe_w_square.gvec.shape)\n",
    "\n",
    "if squ_pwe_w_square.gvec.shape == hex_pwe_w_square.gvec.shape:\n",
    "    assert not np.allclose(squ_pwe_w_square.gvec, hex_pwe_w_square.gvec)\n",
    "assert np.allclose(squ_pwe_w_square.gvec, squ_pwe_w_circle.gvec)\n",
    "\n",
    "\n",
    "# setup visualization of the vectors\n",
    "fig, ax = plt.subplots(1, 2)\n",
    "color = plt.cm.rainbow(np.linspace(0, 1, squ_pwe_w_square.gvec.shape[1]))\n",
    "\n",
    "for i, c in zip(range(hex_pwe_w_square.gvec.shape[1]), color):\n",
    "    ax[0].scatter(hex_pwe_w_square.gvec[0][i],hex_pwe_w_square.gvec[1][i], color=c, s=10)\n",
    "#     ax[0].arrow(0, 0, hex_pwe_w_square.gvec[0][i], hex_pwe_w_square.gvec[1][i], color=c)\n",
    "ax[0].set_title('gvecs (hex)')\n",
    "for i, c in zip(range(squ_pwe_w_square.gvec.shape[1]), color):\n",
    "    ax[1].scatter(squ_pwe_w_square.gvec[0][i], squ_pwe_w_square.gvec[1][i], color=c, s=10)\n",
    "#     ax[1].arrow(0, 0, squ_pwe_w_square.gvec[0][i], squ_pwe_w_square.gvec[1][i], color=c)\n",
    "ax[1].set_title('gvecs (square)')"
   ]
  },
  {
   "cell_type": "markdown",
   "metadata": {},
   "source": [
    "Next, we want to confirm the relationship between gmax and the amplitude of gvectors. Let's first look at the code, then confirm via some assert statements:\n",
    "\n",
    "Define:\n",
    "\n",
    "b1, b2 as the primitive vectors such that every reciprocal lattice vector can be written as m * b1 + n * b2 (m, n integers)\n",
    "\n",
    "gmax as the max reciprocal lattice wave-vector length\n",
    "\n",
    "We observe the following:\n",
    "1. gmax does not DIRECTLY determine the number of gvectors. See for example above (square and hexagonal lattices have different numbers of gvectors). This is kind of confusing and should be further visited.\n",
    "\n",
    "2. gmax determines the max lengths along the b1 and b2 vectors, and determines how many steps along each vector we can use for our simulation. These steps are (n1max, n2max). nimax = 2 * pi * gmax/bi. Note that the longer bi, the smaller nimax (i.e. we can go fewer steps along longer vectors, such that total length remains approximately the same)\n",
    "\n",
    "3. We can get the number of gvectors as (2 * n1max + 1)(2 * n2max + 1), with n1 max and n2 max defined as above. The full equation becomes: len(gvec) = (2 * floor(2 * pi * gmax / b1) + 1)(2 * floor(2 * pi* gmax/b2) + 1)\n",
    "\n",
    "4. For m in [-n1max, n1max], for n in [-n2max, n2max], the gvecs along which we project results are G = m * g1 + n * g2"
   ]
  },
  {
   "cell_type": "code",
   "execution_count": 8,
   "metadata": {},
   "outputs": [
    {
     "name": "stdout",
     "output_type": "stream",
     "text": [
      "(hex) Max possible norm gvec 37.633539125384544, max actual norm: 25.132741228718345\n",
      "(squ) Max possible norm gvec 35.77596688572384, max actual norm: 26.657297628950197\n"
     ]
    }
   ],
   "source": [
    "\"\"\"\n",
    "Let's quickly test these relationships to make sure that we're right about them\n",
    "\n",
    "1. Maximum length of all vectors can be determined by gmax and the angle between b1 and b2\n",
    "   (by the cosine law)\n",
    "2. We can deduce the number of gvectors with:\n",
    "   len(gvec) = (floor(4*pi*gmax/b1) + 1)(floor(4*pi*gmax/b2) + 1)\n",
    "\"\"\"\n",
    "# 1. Max length of vector\n",
    "def theta(v, w): return np.arccos(v.dot(w)/(np.linalg.norm(v)*np.linalg.norm(w)))\n",
    "theta_hex = 180 - theta(h_lattice.b1, h_lattice.b2)\n",
    "theta_squ = 180 - theta(s_lattice.b1, s_lattice.b2)\n",
    "\n",
    "l_max_hex = np.sqrt(2 * (2 * np.pi * gmax)**2 - 2 * np.cos(theta_hex)*(2 * np.pi * gmax)**2)\n",
    "l_max_squ = np.sqrt(2 * (2 * np.pi * gmax)**2 - 2 * np.cos(theta_squ)*(2 * np.pi * gmax)**2)\n",
    "\n",
    "hex_string = f'(hex) Max possible norm gvec {l_max_hex}, max actual norm: {np.max(np.linalg.norm(hex_pwe_w_square.gvec, axis=0))}'\n",
    "squ_string = f'(squ) Max possible norm gvec {l_max_squ}, max actual norm: {np.max(np.linalg.norm(squ_pwe_w_square.gvec, axis=0))}'\n",
    "\n",
    "assert np.all(np.linalg.norm(hex_pwe_w_square.gvec, axis=0) < l_max_hex), hex_string\n",
    "assert np.all(np.linalg.norm(hex_pwe_w_square.gvec, axis=0) < l_max_squ), squ_string\n",
    "\n",
    "print(hex_string)\n",
    "print(squ_string)\n",
    "\n",
    "# 2. Predict number of gvectors\n",
    "gvec_num_hex = (2 * np.int_(2 * np.pi * gmax / np.linalg.norm(h_lattice.b1)) + 1) * (2 * np.int_(2 * np.pi * gmax / np.linalg.norm(h_lattice.b2)) + 1)\n",
    "gvec_num_squ = (2 * np.int_(2 * np.pi * gmax / np.linalg.norm(s_lattice.b1)) + 1) * (2 * np.int_(2 * np.pi * gmax / np.linalg.norm(s_lattice.b2)) + 1)\n",
    "\n",
    "assert gvec_num_hex == hex_pwe_w_square.gvec.shape[1], print(f'Expected number of gvec: {gvec_num_hex}, actual: {hex_pwe_w_square.gvec.shape[1]}')\n",
    "assert gvec_num_squ == squ_pwe_w_square.gvec.shape[1], print(f'Expected number of gvec: {gvec_num_squ}, actual: {squ_pwe_w_square.gvec.shape[1]}')"
   ]
  },
  {
   "cell_type": "code",
   "execution_count": null,
   "metadata": {},
   "outputs": [],
   "source": [
    "\"\"\"\n",
    "Let's confirm the same with photonic crystals (PHC class)\n",
    "\"\"\"\n"
   ]
  }
 ],
 "metadata": {
  "kernelspec": {
   "display_name": "Python 3",
   "language": "python",
   "name": "python3"
  },
  "language_info": {
   "codemirror_mode": {
    "name": "ipython",
    "version": 3
   },
   "file_extension": ".py",
   "mimetype": "text/x-python",
   "name": "python",
   "nbconvert_exporter": "python",
   "pygments_lexer": "ipython3",
   "version": "3.9.1"
  }
 },
 "nbformat": 4,
 "nbformat_minor": 1
}
